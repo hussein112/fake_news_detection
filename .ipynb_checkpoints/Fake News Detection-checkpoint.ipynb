{
 "cells": [
  {
   "cell_type": "markdown",
   "id": "7ac3e69c-e8d7-4612-a366-e5cfb58b7a58",
   "metadata": {},
   "source": [
    "[Dataset](https://drive.google.com/file/d/1er9NJTLUA3qnRuyhfzuN0XUsoIC4a-_q/view)"
   ]
  },
  {
   "cell_type": "code",
   "execution_count": 1,
   "id": "1972afeb-2af1-4e7f-bab2-b08b51077bd1",
   "metadata": {},
   "outputs": [],
   "source": [
    "import numpy as np\n",
    "import pandas as pd\n",
    "import itertools\n",
    "from sklearn.model_selection import train_test_split\n",
    "from sklearn.feature_extraction.text import TfidfVectorizer\n",
    "from sklearn.linear_model import PassiveAggressiveClassifier\n",
    "from sklearn.metrics import accuracy_score, confusion_matrix"
   ]
  },
  {
   "cell_type": "code",
   "execution_count": 2,
   "id": "b678e6b9-dbb1-4ea1-a11b-f9fb257f7f80",
   "metadata": {},
   "outputs": [],
   "source": [
    "df=pd.read_csv('news.csv')"
   ]
  },
  {
   "cell_type": "markdown",
   "id": "b0129127-8532-4f13-a232-ab809a5e6777",
   "metadata": {},
   "source": [
    "# EDA"
   ]
  },
  {
   "cell_type": "markdown",
   "id": "c72f33e0-dfca-479f-90c0-da964ff15a55",
   "metadata": {},
   "source": [
    "## Data Understanding"
   ]
  },
  {
   "cell_type": "code",
   "execution_count": 3,
   "id": "994546c1-13d2-4dbf-b23e-d82a16821b17",
   "metadata": {},
   "outputs": [
    {
     "name": "stdout",
     "output_type": "stream",
     "text": [
      "<class 'pandas.core.frame.DataFrame'>\n",
      "RangeIndex: 6335 entries, 0 to 6334\n",
      "Data columns (total 4 columns):\n",
      " #   Column      Non-Null Count  Dtype \n",
      "---  ------      --------------  ----- \n",
      " 0   Unnamed: 0  6335 non-null   int64 \n",
      " 1   title       6335 non-null   object\n",
      " 2   text        6335 non-null   object\n",
      " 3   label       6335 non-null   object\n",
      "dtypes: int64(1), object(3)\n",
      "memory usage: 198.1+ KB\n"
     ]
    }
   ],
   "source": [
    "df.info()"
   ]
  },
  {
   "cell_type": "code",
   "execution_count": 4,
   "id": "b00fc5d3-bd77-44b6-83c0-faa9b5104a26",
   "metadata": {},
   "outputs": [
    {
     "data": {
      "text/html": [
       "<div>\n",
       "<style scoped>\n",
       "    .dataframe tbody tr th:only-of-type {\n",
       "        vertical-align: middle;\n",
       "    }\n",
       "\n",
       "    .dataframe tbody tr th {\n",
       "        vertical-align: top;\n",
       "    }\n",
       "\n",
       "    .dataframe thead th {\n",
       "        text-align: right;\n",
       "    }\n",
       "</style>\n",
       "<table border=\"1\" class=\"dataframe\">\n",
       "  <thead>\n",
       "    <tr style=\"text-align: right;\">\n",
       "      <th></th>\n",
       "      <th>Unnamed: 0</th>\n",
       "      <th>title</th>\n",
       "      <th>text</th>\n",
       "      <th>label</th>\n",
       "    </tr>\n",
       "  </thead>\n",
       "  <tbody>\n",
       "    <tr>\n",
       "      <th>4896</th>\n",
       "      <td>4974</td>\n",
       "      <td>Eric Trump: Dad's Campaign To Focus On, Fix In...</td>\n",
       "      <td>Donald Trump's son, Eric, said his father's pr...</td>\n",
       "      <td>REAL</td>\n",
       "    </tr>\n",
       "    <tr>\n",
       "      <th>5972</th>\n",
       "      <td>5594</td>\n",
       "      <td>Will James Comey Change the Outcome of the Ele...</td>\n",
       "      <td>Will James Comey Change the Outcome of the Ele...</td>\n",
       "      <td>FAKE</td>\n",
       "    </tr>\n",
       "    <tr>\n",
       "      <th>378</th>\n",
       "      <td>8263</td>\n",
       "      <td>David Duke wins Louisiana Senate Debate in Lan...</td>\n",
       "      <td>\\nThe liberal media is going bat$hit crazy ove...</td>\n",
       "      <td>FAKE</td>\n",
       "    </tr>\n",
       "    <tr>\n",
       "      <th>2741</th>\n",
       "      <td>3939</td>\n",
       "      <td>Obama Pushes Castro on Human Rights During Joi...</td>\n",
       "      <td>President Barack Obama and Cuban President Rau...</td>\n",
       "      <td>REAL</td>\n",
       "    </tr>\n",
       "    <tr>\n",
       "      <th>5549</th>\n",
       "      <td>1258</td>\n",
       "      <td>Republican Debate: Trump's absence leaves thre...</td>\n",
       "      <td>The intentional winner of the Fox News Republi...</td>\n",
       "      <td>REAL</td>\n",
       "    </tr>\n",
       "  </tbody>\n",
       "</table>\n",
       "</div>"
      ],
      "text/plain": [
       "      Unnamed: 0                                              title  \\\n",
       "4896        4974  Eric Trump: Dad's Campaign To Focus On, Fix In...   \n",
       "5972        5594  Will James Comey Change the Outcome of the Ele...   \n",
       "378         8263  David Duke wins Louisiana Senate Debate in Lan...   \n",
       "2741        3939  Obama Pushes Castro on Human Rights During Joi...   \n",
       "5549        1258  Republican Debate: Trump's absence leaves thre...   \n",
       "\n",
       "                                                   text label  \n",
       "4896  Donald Trump's son, Eric, said his father's pr...  REAL  \n",
       "5972  Will James Comey Change the Outcome of the Ele...  FAKE  \n",
       "378   \\nThe liberal media is going bat$hit crazy ove...  FAKE  \n",
       "2741  President Barack Obama and Cuban President Rau...  REAL  \n",
       "5549  The intentional winner of the Fox News Republi...  REAL  "
      ]
     },
     "execution_count": 4,
     "metadata": {},
     "output_type": "execute_result"
    }
   ],
   "source": [
    "df.sample(5)"
   ]
  },
  {
   "cell_type": "markdown",
   "id": "47716b2d-29f0-4faa-8c19-10e47a0e9fb0",
   "metadata": {},
   "source": [
    "## Data Preparation"
   ]
  },
  {
   "cell_type": "code",
   "execution_count": 5,
   "id": "7836b916-02c7-40bc-8b23-f271d9fc3f39",
   "metadata": {},
   "outputs": [],
   "source": [
    "df.drop(columns=['Unnamed: 0'], inplace=True)"
   ]
  },
  {
   "cell_type": "code",
   "execution_count": 6,
   "id": "385440de-e7ef-462e-906e-ad94214d83b5",
   "metadata": {},
   "outputs": [
    {
     "data": {
      "text/plain": [
       "title    0\n",
       "text     0\n",
       "label    0\n",
       "dtype: int64"
      ]
     },
     "execution_count": 6,
     "metadata": {},
     "output_type": "execute_result"
    }
   ],
   "source": [
    "df.isnull().sum()"
   ]
  },
  {
   "cell_type": "code",
   "execution_count": 7,
   "id": "1f8b6674-e802-447b-bd56-93046de2b8d1",
   "metadata": {},
   "outputs": [
    {
     "data": {
      "text/html": [
       "<div>\n",
       "<style scoped>\n",
       "    .dataframe tbody tr th:only-of-type {\n",
       "        vertical-align: middle;\n",
       "    }\n",
       "\n",
       "    .dataframe tbody tr th {\n",
       "        vertical-align: top;\n",
       "    }\n",
       "\n",
       "    .dataframe thead th {\n",
       "        text-align: right;\n",
       "    }\n",
       "</style>\n",
       "<table border=\"1\" class=\"dataframe\">\n",
       "  <thead>\n",
       "    <tr style=\"text-align: right;\">\n",
       "      <th></th>\n",
       "      <th>title</th>\n",
       "      <th>text</th>\n",
       "      <th>label</th>\n",
       "    </tr>\n",
       "  </thead>\n",
       "  <tbody>\n",
       "    <tr>\n",
       "      <th>1492</th>\n",
       "      <td>University of Missouri, please immediately fir...</td>\n",
       "      <td>To watch the video of photographer Tim Tai get...</td>\n",
       "      <td>REAL</td>\n",
       "    </tr>\n",
       "    <tr>\n",
       "      <th>1954</th>\n",
       "      <td>Loretta Lynch becomes first African-American w...</td>\n",
       "      <td>Washington (CNN) Loretta Lynch was sworn in as...</td>\n",
       "      <td>REAL</td>\n",
       "    </tr>\n",
       "    <tr>\n",
       "      <th>2336</th>\n",
       "      <td>Obamacare Enrollees Anxiously Await Supreme Co...</td>\n",
       "      <td>“I’ve got my six-month, regular cancer checkup...</td>\n",
       "      <td>REAL</td>\n",
       "    </tr>\n",
       "    <tr>\n",
       "      <th>2856</th>\n",
       "      <td>Donald Trump is blatantly racist — and the med...</td>\n",
       "      <td>Donald Trump, the actual Republican candidate ...</td>\n",
       "      <td>REAL</td>\n",
       "    </tr>\n",
       "    <tr>\n",
       "      <th>2952</th>\n",
       "      <td>Black Agenda Report for Week of Oct 31, 2016</td>\n",
       "      <td>News, information and analysis from the black ...</td>\n",
       "      <td>FAKE</td>\n",
       "    </tr>\n",
       "    <tr>\n",
       "      <th>3081</th>\n",
       "      <td>The College Loan Bombshell Hidden in the Budget</td>\n",
       "      <td>In obscure data tables buried deep in its 2016...</td>\n",
       "      <td>REAL</td>\n",
       "    </tr>\n",
       "    <tr>\n",
       "      <th>3292</th>\n",
       "      <td>This astonishing chart shows how moderate Repu...</td>\n",
       "      <td>Political scientists have known for years that...</td>\n",
       "      <td>REAL</td>\n",
       "    </tr>\n",
       "    <tr>\n",
       "      <th>3301</th>\n",
       "      <td>OnPolitics | 's politics blog</td>\n",
       "      <td>Who has Trump appointed to his cabinet so far?...</td>\n",
       "      <td>REAL</td>\n",
       "    </tr>\n",
       "    <tr>\n",
       "      <th>3324</th>\n",
       "      <td>Senate GOP prepared to replace Obamacare subsi...</td>\n",
       "      <td>Killing Obama administration rules, dismantlin...</td>\n",
       "      <td>REAL</td>\n",
       "    </tr>\n",
       "    <tr>\n",
       "      <th>4140</th>\n",
       "      <td>We Republicans Lost On Gay Rights. That’s A Go...</td>\n",
       "      <td>I’m not among those Republicans who have “evol...</td>\n",
       "      <td>REAL</td>\n",
       "    </tr>\n",
       "    <tr>\n",
       "      <th>4405</th>\n",
       "      <td>Paintings 'almost no one else seemed to be doing'</td>\n",
       "      <td>Print \\nWhen Judith Gait met “Father X,” it wa...</td>\n",
       "      <td>FAKE</td>\n",
       "    </tr>\n",
       "    <tr>\n",
       "      <th>4885</th>\n",
       "      <td>An Open Letter to Black South African Police O...</td>\n",
       "      <td>Tweet Widget by Black Power Front \\nWith stude...</td>\n",
       "      <td>FAKE</td>\n",
       "    </tr>\n",
       "    <tr>\n",
       "      <th>4971</th>\n",
       "      <td>US faces calls to ‘walk away’ from Iran talks</td>\n",
       "      <td>A leading Republican critic of the Iranian nuc...</td>\n",
       "      <td>REAL</td>\n",
       "    </tr>\n",
       "    <tr>\n",
       "      <th>5083</th>\n",
       "      <td>Fighting Ghost Fascists While Aiding Real Ones</td>\n",
       "      <td>2016 presidential campaign by BAR executive ed...</td>\n",
       "      <td>FAKE</td>\n",
       "    </tr>\n",
       "    <tr>\n",
       "      <th>5105</th>\n",
       "      <td>Clinton clinches Democratic nomination – Sande...</td>\n",
       "      <td>Hillary Clinton clinched the Democratic presid...</td>\n",
       "      <td>REAL</td>\n",
       "    </tr>\n",
       "    <tr>\n",
       "      <th>5127</th>\n",
       "      <td>OnPolitics | 's politics blog</td>\n",
       "      <td>Who has Trump appointed to his cabinet so far?...</td>\n",
       "      <td>REAL</td>\n",
       "    </tr>\n",
       "    <tr>\n",
       "      <th>5414</th>\n",
       "      <td>Do Democrats Want What Bernie Wants, Or Just W...</td>\n",
       "      <td>Do Democrats Want What Bernie Wants, Or Just W...</td>\n",
       "      <td>REAL</td>\n",
       "    </tr>\n",
       "    <tr>\n",
       "      <th>5417</th>\n",
       "      <td>Black Agenda Radio for Week of Nov. 7, 2016</td>\n",
       "      <td>News, information and analysis from the black ...</td>\n",
       "      <td>FAKE</td>\n",
       "    </tr>\n",
       "    <tr>\n",
       "      <th>5478</th>\n",
       "      <td>FEAR OF TRUMP: BUSH, OBAMA, CLINTON ALL BUYING...</td>\n",
       "      <td>Email \\n\\nIt appears Bill and Hillary Clinton ...</td>\n",
       "      <td>FAKE</td>\n",
       "    </tr>\n",
       "    <tr>\n",
       "      <th>5500</th>\n",
       "      <td>Saudi ambassador to the UAE: Any contact with ...</td>\n",
       "      <td>Email \\n\\nAccording to a report by an Emirati ...</td>\n",
       "      <td>FAKE</td>\n",
       "    </tr>\n",
       "    <tr>\n",
       "      <th>5536</th>\n",
       "      <td>Anti-Trump forces seek last-ditch delegate revolt</td>\n",
       "      <td>Washington (CNN) The faction of the GOP that i...</td>\n",
       "      <td>REAL</td>\n",
       "    </tr>\n",
       "    <tr>\n",
       "      <th>5627</th>\n",
       "      <td>Clinton clearing primary field for potential 2...</td>\n",
       "      <td>Hillary Clinton appears to have scared away mu...</td>\n",
       "      <td>REAL</td>\n",
       "    </tr>\n",
       "    <tr>\n",
       "      <th>5705</th>\n",
       "      <td>Political polarization is getting worse. Every...</td>\n",
       "      <td>You've probably seen this chart.\\n\\nIt uses an...</td>\n",
       "      <td>REAL</td>\n",
       "    </tr>\n",
       "    <tr>\n",
       "      <th>5916</th>\n",
       "      <td>Is it possible that Saudi King be tried in US ...</td>\n",
       "      <td>Email \\n\\nAccording to the JASTA law which all...</td>\n",
       "      <td>FAKE</td>\n",
       "    </tr>\n",
       "    <tr>\n",
       "      <th>5966</th>\n",
       "      <td>There’s a good reason protesters at the Univer...</td>\n",
       "      <td>Video of a confrontation between a news photog...</td>\n",
       "      <td>REAL</td>\n",
       "    </tr>\n",
       "    <tr>\n",
       "      <th>6083</th>\n",
       "      <td>Biden Blames “Lazy American Women” For The Eco...</td>\n",
       "      <td>Email \\n\\nDemocratic Vice President Joe Biden ...</td>\n",
       "      <td>FAKE</td>\n",
       "    </tr>\n",
       "    <tr>\n",
       "      <th>6148</th>\n",
       "      <td>Hillary’s “Big Tent” is Obama’s “Grand Bargain...</td>\n",
       "      <td>2016 presidential campaign by BAR executive ed...</td>\n",
       "      <td>FAKE</td>\n",
       "    </tr>\n",
       "    <tr>\n",
       "      <th>6227</th>\n",
       "      <td>ISIS uses an industrial dough kneader to kill ...</td>\n",
       "      <td>Email \\nISIS barbarians used an industrial dou...</td>\n",
       "      <td>FAKE</td>\n",
       "    </tr>\n",
       "    <tr>\n",
       "      <th>6233</th>\n",
       "      <td>North Korea Threatens ‘Sacred’ Nuclear War Aga...</td>\n",
       "      <td>Email \\nNorth Korea’s Foreign Ministry slammed...</td>\n",
       "      <td>FAKE</td>\n",
       "    </tr>\n",
       "  </tbody>\n",
       "</table>\n",
       "</div>"
      ],
      "text/plain": [
       "                                                  title  \\\n",
       "1492  University of Missouri, please immediately fir...   \n",
       "1954  Loretta Lynch becomes first African-American w...   \n",
       "2336  Obamacare Enrollees Anxiously Await Supreme Co...   \n",
       "2856  Donald Trump is blatantly racist — and the med...   \n",
       "2952       Black Agenda Report for Week of Oct 31, 2016   \n",
       "3081    The College Loan Bombshell Hidden in the Budget   \n",
       "3292  This astonishing chart shows how moderate Repu...   \n",
       "3301                      OnPolitics | 's politics blog   \n",
       "3324  Senate GOP prepared to replace Obamacare subsi...   \n",
       "4140  We Republicans Lost On Gay Rights. That’s A Go...   \n",
       "4405  Paintings 'almost no one else seemed to be doing'   \n",
       "4885  An Open Letter to Black South African Police O...   \n",
       "4971      US faces calls to ‘walk away’ from Iran talks   \n",
       "5083     Fighting Ghost Fascists While Aiding Real Ones   \n",
       "5105  Clinton clinches Democratic nomination – Sande...   \n",
       "5127                      OnPolitics | 's politics blog   \n",
       "5414  Do Democrats Want What Bernie Wants, Or Just W...   \n",
       "5417        Black Agenda Radio for Week of Nov. 7, 2016   \n",
       "5478  FEAR OF TRUMP: BUSH, OBAMA, CLINTON ALL BUYING...   \n",
       "5500  Saudi ambassador to the UAE: Any contact with ...   \n",
       "5536  Anti-Trump forces seek last-ditch delegate revolt   \n",
       "5627  Clinton clearing primary field for potential 2...   \n",
       "5705  Political polarization is getting worse. Every...   \n",
       "5916  Is it possible that Saudi King be tried in US ...   \n",
       "5966  There’s a good reason protesters at the Univer...   \n",
       "6083  Biden Blames “Lazy American Women” For The Eco...   \n",
       "6148  Hillary’s “Big Tent” is Obama’s “Grand Bargain...   \n",
       "6227  ISIS uses an industrial dough kneader to kill ...   \n",
       "6233  North Korea Threatens ‘Sacred’ Nuclear War Aga...   \n",
       "\n",
       "                                                   text label  \n",
       "1492  To watch the video of photographer Tim Tai get...  REAL  \n",
       "1954  Washington (CNN) Loretta Lynch was sworn in as...  REAL  \n",
       "2336  “I’ve got my six-month, regular cancer checkup...  REAL  \n",
       "2856  Donald Trump, the actual Republican candidate ...  REAL  \n",
       "2952  News, information and analysis from the black ...  FAKE  \n",
       "3081  In obscure data tables buried deep in its 2016...  REAL  \n",
       "3292  Political scientists have known for years that...  REAL  \n",
       "3301  Who has Trump appointed to his cabinet so far?...  REAL  \n",
       "3324  Killing Obama administration rules, dismantlin...  REAL  \n",
       "4140  I’m not among those Republicans who have “evol...  REAL  \n",
       "4405  Print \\nWhen Judith Gait met “Father X,” it wa...  FAKE  \n",
       "4885  Tweet Widget by Black Power Front \\nWith stude...  FAKE  \n",
       "4971  A leading Republican critic of the Iranian nuc...  REAL  \n",
       "5083  2016 presidential campaign by BAR executive ed...  FAKE  \n",
       "5105  Hillary Clinton clinched the Democratic presid...  REAL  \n",
       "5127  Who has Trump appointed to his cabinet so far?...  REAL  \n",
       "5414  Do Democrats Want What Bernie Wants, Or Just W...  REAL  \n",
       "5417  News, information and analysis from the black ...  FAKE  \n",
       "5478  Email \\n\\nIt appears Bill and Hillary Clinton ...  FAKE  \n",
       "5500  Email \\n\\nAccording to a report by an Emirati ...  FAKE  \n",
       "5536  Washington (CNN) The faction of the GOP that i...  REAL  \n",
       "5627  Hillary Clinton appears to have scared away mu...  REAL  \n",
       "5705  You've probably seen this chart.\\n\\nIt uses an...  REAL  \n",
       "5916  Email \\n\\nAccording to the JASTA law which all...  FAKE  \n",
       "5966  Video of a confrontation between a news photog...  REAL  \n",
       "6083  Email \\n\\nDemocratic Vice President Joe Biden ...  FAKE  \n",
       "6148  2016 presidential campaign by BAR executive ed...  FAKE  \n",
       "6227  Email \\nISIS barbarians used an industrial dou...  FAKE  \n",
       "6233  Email \\nNorth Korea’s Foreign Ministry slammed...  FAKE  "
      ]
     },
     "execution_count": 7,
     "metadata": {},
     "output_type": "execute_result"
    }
   ],
   "source": [
    "df.loc[df.duplicated()]"
   ]
  },
  {
   "cell_type": "code",
   "execution_count": 8,
   "id": "88f70def-68a8-4c11-9f62-51b573edd580",
   "metadata": {},
   "outputs": [],
   "source": [
    "df.drop_duplicates(inplace=True)"
   ]
  },
  {
   "cell_type": "code",
   "execution_count": 9,
   "id": "a726387b-def7-4427-849d-0f77da995113",
   "metadata": {},
   "outputs": [
    {
     "data": {
      "text/plain": [
       "(6306, 3)"
      ]
     },
     "execution_count": 9,
     "metadata": {},
     "output_type": "execute_result"
    }
   ],
   "source": [
    "df.shape"
   ]
  },
  {
   "cell_type": "markdown",
   "id": "d12fcc2b-cc24-42de-954a-5fc634cd7e5e",
   "metadata": {},
   "source": [
    "# Model"
   ]
  },
  {
   "cell_type": "code",
   "execution_count": 10,
   "id": "0f7bdaf8-82fb-4124-9db4-2db4190ee088",
   "metadata": {},
   "outputs": [],
   "source": [
    "labels=df.label\n",
    "x_train,x_test,y_train,y_test=train_test_split(df['text'], labels, test_size=0.2, random_state=7)"
   ]
  },
  {
   "cell_type": "code",
   "execution_count": 11,
   "id": "aabaec44-24f1-439f-bddb-5d806a72430d",
   "metadata": {},
   "outputs": [],
   "source": [
    "#DataFlair - Initialize a TfidfVectorizer\n",
    "tfidf_vectorizer=TfidfVectorizer(stop_words='english', max_df=0.7)\n",
    "#DataFlair - Fit and transform train set, transform test set\n",
    "tfidf_train=tfidf_vectorizer.fit_transform(x_train) \n",
    "tfidf_test=tfidf_vectorizer.transform(x_test)"
   ]
  },
  {
   "cell_type": "code",
   "execution_count": 12,
   "id": "883f5e0d-9eef-498f-aa5a-493a8c7502f9",
   "metadata": {},
   "outputs": [
    {
     "data": {
      "text/plain": [
       "<5044x61672 sparse matrix of type '<class 'numpy.float64'>'\n",
       "\twith 1324215 stored elements in Compressed Sparse Row format>"
      ]
     },
     "execution_count": 12,
     "metadata": {},
     "output_type": "execute_result"
    }
   ],
   "source": [
    "tfidf_train"
   ]
  },
  {
   "cell_type": "code",
   "execution_count": 13,
   "id": "ded0f097-f495-4d2f-889a-7f65c55c5670",
   "metadata": {},
   "outputs": [
    {
     "name": "stdout",
     "output_type": "stream",
     "text": [
      "Accuracy: 93.98%\n"
     ]
    }
   ],
   "source": [
    "#DataFlair - Initialize a PassiveAggressiveClassifier\n",
    "pac=PassiveAggressiveClassifier(max_iter=50)\n",
    "pac.fit(tfidf_train,y_train)\n",
    "#DataFlair - Predict on the test set and calculate accuracy\n",
    "y_pred=pac.predict(tfidf_test)\n",
    "score=accuracy_score(y_test,y_pred)\n",
    "print(f'Accuracy: {round(score*100,2)}%')"
   ]
  },
  {
   "cell_type": "code",
   "execution_count": 14,
   "id": "8853ce49-52d1-4eb9-838c-2748781033ce",
   "metadata": {},
   "outputs": [
    {
     "data": {
      "text/plain": [
       "array([[622,  40],\n",
       "       [ 36, 564]], dtype=int64)"
      ]
     },
     "execution_count": 14,
     "metadata": {},
     "output_type": "execute_result"
    }
   ],
   "source": [
    "confusion_matrix(y_test,y_pred, labels=['FAKE','REAL'])"
   ]
  }
 ],
 "metadata": {
  "kernelspec": {
   "display_name": "Python 3 (ipykernel)",
   "language": "python",
   "name": "python3"
  },
  "language_info": {
   "codemirror_mode": {
    "name": "ipython",
    "version": 3
   },
   "file_extension": ".py",
   "mimetype": "text/x-python",
   "name": "python",
   "nbconvert_exporter": "python",
   "pygments_lexer": "ipython3",
   "version": "3.11.5"
  }
 },
 "nbformat": 4,
 "nbformat_minor": 5
}
